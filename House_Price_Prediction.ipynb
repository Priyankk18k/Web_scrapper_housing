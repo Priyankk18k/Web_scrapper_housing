{
  "nbformat": 4,
  "nbformat_minor": 0,
  "metadata": {
    "colab": {
      "name": "House Price Prediction",
      "provenance": []
    },
    "kernelspec": {
      "name": "python3",
      "display_name": "Python 3"
    }
  },
  "cells": [
    {
      "cell_type": "code",
      "metadata": {
        "id": "VhV0FHns1GC8",
        "colab_type": "code",
        "colab": {}
      },
      "source": [
        "import numpy as np\n",
        "import pandas as pd\n"
      ],
      "execution_count": 0,
      "outputs": []
    },
    {
      "cell_type": "code",
      "metadata": {
        "id": "E9R1j8zE1Mg4",
        "colab_type": "code",
        "colab": {}
      },
      "source": [
        "df = pd.read_csv(\"https://raw.githubusercontent.com/Priyankk18k/Bangalore_City_data_Scrapping/master/Bengaluru_House_Data.csv\")"
      ],
      "execution_count": 0,
      "outputs": []
    },
    {
      "cell_type": "code",
      "metadata": {
        "id": "CxQUoJlkoHd3",
        "colab_type": "code",
        "outputId": "2be64234-5d96-4bbb-de74-b058741080b2",
        "colab": {
          "base_uri": "https://localhost:8080/",
          "height": 35
        }
      },
      "source": [
        "print(\"The dataset Has {} number of rows and {} number of columns\".format(df.shape[0],df.shape[1])) "
      ],
      "execution_count": 0,
      "outputs": [
        {
          "output_type": "stream",
          "text": [
            "The dataset Has 13320 number of rows and 9 number of columns\n"
          ],
          "name": "stdout"
        }
      ]
    },
    {
      "cell_type": "code",
      "metadata": {
        "id": "tjuDfRtvDQ2N",
        "colab_type": "code",
        "outputId": "bb79c003-8e6b-44ad-b4e0-17d80bab2862",
        "colab": {
          "base_uri": "https://localhost:8080/",
          "height": 35
        }
      },
      "source": [
        "##### Finding Out the duplicate values in the Dataset.\n",
        "print(\"The Duplicates value in the Dataset are {}.\".format(df.duplicated().sum()))"
      ],
      "execution_count": 0,
      "outputs": [
        {
          "output_type": "stream",
          "text": [
            "The Duplicates value in the Dataset are 529.\n"
          ],
          "name": "stdout"
        }
      ]
    },
    {
      "cell_type": "markdown",
      "metadata": {
        "id": "eibuVb_FFJOJ",
        "colab_type": "text"
      },
      "source": [
        "# MissingValueAnalysis"
      ]
    },
    {
      "cell_type": "code",
      "metadata": {
        "id": "REquAKWhEycM",
        "colab_type": "code",
        "outputId": "9eb30772-e138-4077-b6ba-3f6f2701e7f6",
        "colab": {
          "base_uri": "https://localhost:8080/",
          "height": 199
        }
      },
      "source": [
        "df.isnull().sum()\n",
        "### Here we can see that the columns contains the null values are :- Location,size,society,bath,balcony,price\n"
      ],
      "execution_count": 0,
      "outputs": [
        {
          "output_type": "execute_result",
          "data": {
            "text/plain": [
              "area_type          0\n",
              "availability       0\n",
              "location           1\n",
              "size              16\n",
              "society         5502\n",
              "total_sqft         0\n",
              "bath              73\n",
              "balcony          609\n",
              "price              0\n",
              "dtype: int64"
            ]
          },
          "metadata": {
            "tags": []
          },
          "execution_count": 5
        }
      ]
    },
    {
      "cell_type": "code",
      "metadata": {
        "id": "rrVjNccsFL28",
        "colab_type": "code",
        "outputId": "cc15bfaf-9f1c-434b-98d4-22c3ee256ae2",
        "colab": {
          "base_uri": "https://localhost:8080/",
          "height": 198
        }
      },
      "source": [
        "df.head()"
      ],
      "execution_count": 0,
      "outputs": [
        {
          "output_type": "execute_result",
          "data": {
            "text/html": [
              "<div>\n",
              "<style scoped>\n",
              "    .dataframe tbody tr th:only-of-type {\n",
              "        vertical-align: middle;\n",
              "    }\n",
              "\n",
              "    .dataframe tbody tr th {\n",
              "        vertical-align: top;\n",
              "    }\n",
              "\n",
              "    .dataframe thead th {\n",
              "        text-align: right;\n",
              "    }\n",
              "</style>\n",
              "<table border=\"1\" class=\"dataframe\">\n",
              "  <thead>\n",
              "    <tr style=\"text-align: right;\">\n",
              "      <th></th>\n",
              "      <th>area_type</th>\n",
              "      <th>availability</th>\n",
              "      <th>location</th>\n",
              "      <th>size</th>\n",
              "      <th>society</th>\n",
              "      <th>total_sqft</th>\n",
              "      <th>bath</th>\n",
              "      <th>balcony</th>\n",
              "      <th>price</th>\n",
              "    </tr>\n",
              "  </thead>\n",
              "  <tbody>\n",
              "    <tr>\n",
              "      <th>0</th>\n",
              "      <td>Super built-up  Area</td>\n",
              "      <td>19-Dec</td>\n",
              "      <td>Electronic City Phase II</td>\n",
              "      <td>2 BHK</td>\n",
              "      <td>Coomee</td>\n",
              "      <td>1056</td>\n",
              "      <td>2.0</td>\n",
              "      <td>1.0</td>\n",
              "      <td>39.07</td>\n",
              "    </tr>\n",
              "    <tr>\n",
              "      <th>1</th>\n",
              "      <td>Plot  Area</td>\n",
              "      <td>Ready To Move</td>\n",
              "      <td>Chikka Tirupathi</td>\n",
              "      <td>4 Bedroom</td>\n",
              "      <td>Theanmp</td>\n",
              "      <td>2600</td>\n",
              "      <td>5.0</td>\n",
              "      <td>3.0</td>\n",
              "      <td>120.00</td>\n",
              "    </tr>\n",
              "    <tr>\n",
              "      <th>2</th>\n",
              "      <td>Built-up  Area</td>\n",
              "      <td>Ready To Move</td>\n",
              "      <td>Uttarahalli</td>\n",
              "      <td>3 BHK</td>\n",
              "      <td>NaN</td>\n",
              "      <td>1440</td>\n",
              "      <td>2.0</td>\n",
              "      <td>3.0</td>\n",
              "      <td>62.00</td>\n",
              "    </tr>\n",
              "    <tr>\n",
              "      <th>3</th>\n",
              "      <td>Super built-up  Area</td>\n",
              "      <td>Ready To Move</td>\n",
              "      <td>Lingadheeranahalli</td>\n",
              "      <td>3 BHK</td>\n",
              "      <td>Soiewre</td>\n",
              "      <td>1521</td>\n",
              "      <td>3.0</td>\n",
              "      <td>1.0</td>\n",
              "      <td>95.00</td>\n",
              "    </tr>\n",
              "    <tr>\n",
              "      <th>4</th>\n",
              "      <td>Super built-up  Area</td>\n",
              "      <td>Ready To Move</td>\n",
              "      <td>Kothanur</td>\n",
              "      <td>2 BHK</td>\n",
              "      <td>NaN</td>\n",
              "      <td>1200</td>\n",
              "      <td>2.0</td>\n",
              "      <td>1.0</td>\n",
              "      <td>51.00</td>\n",
              "    </tr>\n",
              "  </tbody>\n",
              "</table>\n",
              "</div>"
            ],
            "text/plain": [
              "              area_type   availability  ... balcony   price\n",
              "0  Super built-up  Area         19-Dec  ...     1.0   39.07\n",
              "1            Plot  Area  Ready To Move  ...     3.0  120.00\n",
              "2        Built-up  Area  Ready To Move  ...     3.0   62.00\n",
              "3  Super built-up  Area  Ready To Move  ...     1.0   95.00\n",
              "4  Super built-up  Area  Ready To Move  ...     1.0   51.00\n",
              "\n",
              "[5 rows x 9 columns]"
            ]
          },
          "metadata": {
            "tags": []
          },
          "execution_count": 6
        }
      ]
    },
    {
      "cell_type": "code",
      "metadata": {
        "id": "e19PmwDqFZQf",
        "colab_type": "code",
        "colab": {}
      },
      "source": [
        "categorical_columns = [\"size\",\"society\",\"bath\",\"balcony\",\"area_type\",\"location\"]\n",
        "non_categorical_columns = [i for i in df.columns if i not in categorical_columns]\n"
      ],
      "execution_count": 0,
      "outputs": []
    },
    {
      "cell_type": "markdown",
      "metadata": {
        "id": "rFj9FxY2Gwjv",
        "colab_type": "text"
      },
      "source": [
        "Categorical values can be filled with a word \"Unknown\" as we can't find the average mean,median of categorical columns also we can't implement a KNN_imputation merthod here."
      ]
    },
    {
      "cell_type": "code",
      "metadata": {
        "id": "HZHLbg9yGrzw",
        "colab_type": "code",
        "outputId": "0d825778-37cc-4c48-b801-74b3542333a6",
        "colab": {
          "base_uri": "https://localhost:8080/",
          "height": 198
        }
      },
      "source": [
        "new_df = df.fillna({'society': 'unknown',\n",
        "                   'size': 'unknown', 'location': 'unknown'})\n",
        "new_df.head()"
      ],
      "execution_count": 0,
      "outputs": [
        {
          "output_type": "execute_result",
          "data": {
            "text/html": [
              "<div>\n",
              "<style scoped>\n",
              "    .dataframe tbody tr th:only-of-type {\n",
              "        vertical-align: middle;\n",
              "    }\n",
              "\n",
              "    .dataframe tbody tr th {\n",
              "        vertical-align: top;\n",
              "    }\n",
              "\n",
              "    .dataframe thead th {\n",
              "        text-align: right;\n",
              "    }\n",
              "</style>\n",
              "<table border=\"1\" class=\"dataframe\">\n",
              "  <thead>\n",
              "    <tr style=\"text-align: right;\">\n",
              "      <th></th>\n",
              "      <th>area_type</th>\n",
              "      <th>availability</th>\n",
              "      <th>location</th>\n",
              "      <th>size</th>\n",
              "      <th>society</th>\n",
              "      <th>total_sqft</th>\n",
              "      <th>bath</th>\n",
              "      <th>balcony</th>\n",
              "      <th>price</th>\n",
              "    </tr>\n",
              "  </thead>\n",
              "  <tbody>\n",
              "    <tr>\n",
              "      <th>0</th>\n",
              "      <td>Super built-up  Area</td>\n",
              "      <td>19-Dec</td>\n",
              "      <td>Electronic City Phase II</td>\n",
              "      <td>2 BHK</td>\n",
              "      <td>Coomee</td>\n",
              "      <td>1056</td>\n",
              "      <td>2.0</td>\n",
              "      <td>1.0</td>\n",
              "      <td>39.07</td>\n",
              "    </tr>\n",
              "    <tr>\n",
              "      <th>1</th>\n",
              "      <td>Plot  Area</td>\n",
              "      <td>Ready To Move</td>\n",
              "      <td>Chikka Tirupathi</td>\n",
              "      <td>4 Bedroom</td>\n",
              "      <td>Theanmp</td>\n",
              "      <td>2600</td>\n",
              "      <td>5.0</td>\n",
              "      <td>3.0</td>\n",
              "      <td>120.00</td>\n",
              "    </tr>\n",
              "    <tr>\n",
              "      <th>2</th>\n",
              "      <td>Built-up  Area</td>\n",
              "      <td>Ready To Move</td>\n",
              "      <td>Uttarahalli</td>\n",
              "      <td>3 BHK</td>\n",
              "      <td>unknown</td>\n",
              "      <td>1440</td>\n",
              "      <td>2.0</td>\n",
              "      <td>3.0</td>\n",
              "      <td>62.00</td>\n",
              "    </tr>\n",
              "    <tr>\n",
              "      <th>3</th>\n",
              "      <td>Super built-up  Area</td>\n",
              "      <td>Ready To Move</td>\n",
              "      <td>Lingadheeranahalli</td>\n",
              "      <td>3 BHK</td>\n",
              "      <td>Soiewre</td>\n",
              "      <td>1521</td>\n",
              "      <td>3.0</td>\n",
              "      <td>1.0</td>\n",
              "      <td>95.00</td>\n",
              "    </tr>\n",
              "    <tr>\n",
              "      <th>4</th>\n",
              "      <td>Super built-up  Area</td>\n",
              "      <td>Ready To Move</td>\n",
              "      <td>Kothanur</td>\n",
              "      <td>2 BHK</td>\n",
              "      <td>unknown</td>\n",
              "      <td>1200</td>\n",
              "      <td>2.0</td>\n",
              "      <td>1.0</td>\n",
              "      <td>51.00</td>\n",
              "    </tr>\n",
              "  </tbody>\n",
              "</table>\n",
              "</div>"
            ],
            "text/plain": [
              "              area_type   availability  ... balcony   price\n",
              "0  Super built-up  Area         19-Dec  ...     1.0   39.07\n",
              "1            Plot  Area  Ready To Move  ...     3.0  120.00\n",
              "2        Built-up  Area  Ready To Move  ...     3.0   62.00\n",
              "3  Super built-up  Area  Ready To Move  ...     1.0   95.00\n",
              "4  Super built-up  Area  Ready To Move  ...     1.0   51.00\n",
              "\n",
              "[5 rows x 9 columns]"
            ]
          },
          "metadata": {
            "tags": []
          },
          "execution_count": 8
        }
      ]
    },
    {
      "cell_type": "code",
      "metadata": {
        "id": "DYXt2PanHQEC",
        "colab_type": "code",
        "outputId": "40758151-965b-4fcd-f3b7-0c7cb89cf33e",
        "colab": {
          "base_uri": "https://localhost:8080/",
          "height": 199
        }
      },
      "source": [
        "new_df.isnull().sum()\n",
        "### Now we have Null values for the BAth and balcony columns. \n",
        "### We will try to find out the relationship between the size of the flat and number of bathroom in the flat."
      ],
      "execution_count": 0,
      "outputs": [
        {
          "output_type": "execute_result",
          "data": {
            "text/plain": [
              "area_type         0\n",
              "availability      0\n",
              "location          0\n",
              "size              0\n",
              "society           0\n",
              "total_sqft        0\n",
              "bath             73\n",
              "balcony         609\n",
              "price             0\n",
              "dtype: int64"
            ]
          },
          "metadata": {
            "tags": []
          },
          "execution_count": 9
        }
      ]
    },
    {
      "cell_type": "code",
      "metadata": {
        "id": "f6bKYcYoLULn",
        "colab_type": "code",
        "outputId": "b4d8a53a-44c3-4fc1-806b-914993b67ccf",
        "colab": {
          "base_uri": "https://localhost:8080/",
          "height": 599
        }
      },
      "source": [
        "df[\"size\"].value_counts()"
      ],
      "execution_count": 0,
      "outputs": [
        {
          "output_type": "execute_result",
          "data": {
            "text/plain": [
              "2 BHK         5199\n",
              "3 BHK         4310\n",
              "4 Bedroom      826\n",
              "4 BHK          591\n",
              "3 Bedroom      547\n",
              "1 BHK          538\n",
              "2 Bedroom      329\n",
              "5 Bedroom      297\n",
              "6 Bedroom      191\n",
              "1 Bedroom      105\n",
              "8 Bedroom       84\n",
              "7 Bedroom       83\n",
              "5 BHK           59\n",
              "9 Bedroom       46\n",
              "6 BHK           30\n",
              "7 BHK           17\n",
              "1 RK            13\n",
              "10 Bedroom      12\n",
              "9 BHK            8\n",
              "8 BHK            5\n",
              "11 Bedroom       2\n",
              "11 BHK           2\n",
              "10 BHK           2\n",
              "12 Bedroom       1\n",
              "19 BHK           1\n",
              "14 BHK           1\n",
              "16 BHK           1\n",
              "18 Bedroom       1\n",
              "43 Bedroom       1\n",
              "27 BHK           1\n",
              "13 BHK           1\n",
              "Name: size, dtype: int64"
            ]
          },
          "metadata": {
            "tags": []
          },
          "execution_count": 10
        }
      ]
    },
    {
      "cell_type": "code",
      "metadata": {
        "id": "fM-rxbivHU2M",
        "colab_type": "code",
        "outputId": "b6a8f72d-31ef-4e31-9703-ca09a5dbe797",
        "colab": {
          "base_uri": "https://localhost:8080/",
          "height": 74
        }
      },
      "source": [
        "flat_with_2_bathroom = 0\n",
        "flat_with_1_bathroom = 0\n",
        "property_with_1_bathroom = 0\n",
        "property_with_2_bathroom = 0\n",
        "property_with_3_bathroom = 0\n",
        "property_with_4_bathroom = 0\n",
        "\n",
        "for size,bathroom in zip(new_df[\"size\"],new_df[\"bath\"]):\n",
        "      if str(size) == \"2 BHK\":\n",
        "          if bathroom == 2:\n",
        "              flat_with_2_bathroom += 1\n",
        "          else:\n",
        "              flat_with_1_bathroom += 1 \n",
        "      if str(size) == \"3 BHK\":\n",
        "          if bathroom == 1:\n",
        "            property_with_1_bathroom += 1          \n",
        "          elif bathroom == 2:\n",
        "            property_with_2_bathroom += 1\n",
        "          elif bathroom == 3:\n",
        "            property_with_3_bathroom += 1\n",
        "          else:\n",
        "            property_with_4_bathroom += 1\n",
        "            \n",
        "            \n",
        "print(\"Property with 2 bathrooms are {} and property with 1 bathrooms are {}\".format(flat_with_2_bathroom,flat_with_1_bathroom))  \n",
        "print(\"Property with 4 bathrooms are {} ,property with 3 bathrooms are {},property with 2 bathrooms are {},property with 1 bathrooms are {}\".format(property_with_4_bathroom,property_with_3_bathroom,property_with_2_bathroom,property_with_1_bathroom))              \n",
        "\n",
        "          "
      ],
      "execution_count": 0,
      "outputs": [
        {
          "output_type": "stream",
          "text": [
            "Property with 2 bathrooms are 5038 and property with 1 bathrooms are 161\n",
            "Property with 4 bathrooms are 276 ,property with 3 bathrooms are 2619,property with 2 bathrooms are 1414,property with 1 bathrooms are 1\n"
          ],
          "name": "stdout"
        }
      ]
    },
    {
      "cell_type": "markdown",
      "metadata": {
        "id": "ksQ5uVQ9SIie",
        "colab_type": "text"
      },
      "source": [
        "With The above result we can make a assumption that if a flat is 2BHK then number of bathrooms are 2 for 3 BHK its 3 and so on.\n"
      ]
    },
    {
      "cell_type": "code",
      "metadata": {
        "id": "eP7aZVecSfRE",
        "colab_type": "code",
        "outputId": "85b55670-85e0-43e2-debb-15379d50d152",
        "colab": {
          "base_uri": "https://localhost:8080/",
          "height": 1000
        }
      },
      "source": [
        "new_df[\"bath\"].fillna(method = \"ffill\", inplace = True)\n",
        "new_df.head(4)\n",
        "new_df[\"balcony\"].fillna(method = \"ffill\", inplace = True)\n",
        "new_df\n"
      ],
      "execution_count": 0,
      "outputs": [
        {
          "output_type": "execute_result",
          "data": {
            "text/html": [
              "<div>\n",
              "<style scoped>\n",
              "    .dataframe tbody tr th:only-of-type {\n",
              "        vertical-align: middle;\n",
              "    }\n",
              "\n",
              "    .dataframe tbody tr th {\n",
              "        vertical-align: top;\n",
              "    }\n",
              "\n",
              "    .dataframe thead th {\n",
              "        text-align: right;\n",
              "    }\n",
              "</style>\n",
              "<table border=\"1\" class=\"dataframe\">\n",
              "  <thead>\n",
              "    <tr style=\"text-align: right;\">\n",
              "      <th></th>\n",
              "      <th>area_type</th>\n",
              "      <th>availability</th>\n",
              "      <th>location</th>\n",
              "      <th>size</th>\n",
              "      <th>society</th>\n",
              "      <th>total_sqft</th>\n",
              "      <th>bath</th>\n",
              "      <th>balcony</th>\n",
              "      <th>price</th>\n",
              "    </tr>\n",
              "  </thead>\n",
              "  <tbody>\n",
              "    <tr>\n",
              "      <th>0</th>\n",
              "      <td>Super built-up  Area</td>\n",
              "      <td>19-Dec</td>\n",
              "      <td>Electronic City Phase II</td>\n",
              "      <td>2 BHK</td>\n",
              "      <td>Coomee</td>\n",
              "      <td>1056</td>\n",
              "      <td>2.0</td>\n",
              "      <td>1.0</td>\n",
              "      <td>39.07</td>\n",
              "    </tr>\n",
              "    <tr>\n",
              "      <th>1</th>\n",
              "      <td>Plot  Area</td>\n",
              "      <td>Ready To Move</td>\n",
              "      <td>Chikka Tirupathi</td>\n",
              "      <td>4 Bedroom</td>\n",
              "      <td>Theanmp</td>\n",
              "      <td>2600</td>\n",
              "      <td>5.0</td>\n",
              "      <td>3.0</td>\n",
              "      <td>120.00</td>\n",
              "    </tr>\n",
              "    <tr>\n",
              "      <th>2</th>\n",
              "      <td>Built-up  Area</td>\n",
              "      <td>Ready To Move</td>\n",
              "      <td>Uttarahalli</td>\n",
              "      <td>3 BHK</td>\n",
              "      <td>unknown</td>\n",
              "      <td>1440</td>\n",
              "      <td>2.0</td>\n",
              "      <td>3.0</td>\n",
              "      <td>62.00</td>\n",
              "    </tr>\n",
              "    <tr>\n",
              "      <th>3</th>\n",
              "      <td>Super built-up  Area</td>\n",
              "      <td>Ready To Move</td>\n",
              "      <td>Lingadheeranahalli</td>\n",
              "      <td>3 BHK</td>\n",
              "      <td>Soiewre</td>\n",
              "      <td>1521</td>\n",
              "      <td>3.0</td>\n",
              "      <td>1.0</td>\n",
              "      <td>95.00</td>\n",
              "    </tr>\n",
              "    <tr>\n",
              "      <th>4</th>\n",
              "      <td>Super built-up  Area</td>\n",
              "      <td>Ready To Move</td>\n",
              "      <td>Kothanur</td>\n",
              "      <td>2 BHK</td>\n",
              "      <td>unknown</td>\n",
              "      <td>1200</td>\n",
              "      <td>2.0</td>\n",
              "      <td>1.0</td>\n",
              "      <td>51.00</td>\n",
              "    </tr>\n",
              "    <tr>\n",
              "      <th>5</th>\n",
              "      <td>Super built-up  Area</td>\n",
              "      <td>Ready To Move</td>\n",
              "      <td>Whitefield</td>\n",
              "      <td>2 BHK</td>\n",
              "      <td>DuenaTa</td>\n",
              "      <td>1170</td>\n",
              "      <td>2.0</td>\n",
              "      <td>1.0</td>\n",
              "      <td>38.00</td>\n",
              "    </tr>\n",
              "    <tr>\n",
              "      <th>6</th>\n",
              "      <td>Super built-up  Area</td>\n",
              "      <td>18-May</td>\n",
              "      <td>Old Airport Road</td>\n",
              "      <td>4 BHK</td>\n",
              "      <td>Jaades</td>\n",
              "      <td>2732</td>\n",
              "      <td>4.0</td>\n",
              "      <td>1.0</td>\n",
              "      <td>204.00</td>\n",
              "    </tr>\n",
              "    <tr>\n",
              "      <th>7</th>\n",
              "      <td>Super built-up  Area</td>\n",
              "      <td>Ready To Move</td>\n",
              "      <td>Rajaji Nagar</td>\n",
              "      <td>4 BHK</td>\n",
              "      <td>Brway G</td>\n",
              "      <td>3300</td>\n",
              "      <td>4.0</td>\n",
              "      <td>1.0</td>\n",
              "      <td>600.00</td>\n",
              "    </tr>\n",
              "    <tr>\n",
              "      <th>8</th>\n",
              "      <td>Super built-up  Area</td>\n",
              "      <td>Ready To Move</td>\n",
              "      <td>Marathahalli</td>\n",
              "      <td>3 BHK</td>\n",
              "      <td>unknown</td>\n",
              "      <td>1310</td>\n",
              "      <td>3.0</td>\n",
              "      <td>1.0</td>\n",
              "      <td>63.25</td>\n",
              "    </tr>\n",
              "    <tr>\n",
              "      <th>9</th>\n",
              "      <td>Plot  Area</td>\n",
              "      <td>Ready To Move</td>\n",
              "      <td>Gandhi Bazar</td>\n",
              "      <td>6 Bedroom</td>\n",
              "      <td>unknown</td>\n",
              "      <td>1020</td>\n",
              "      <td>6.0</td>\n",
              "      <td>1.0</td>\n",
              "      <td>370.00</td>\n",
              "    </tr>\n",
              "    <tr>\n",
              "      <th>10</th>\n",
              "      <td>Super built-up  Area</td>\n",
              "      <td>18-Feb</td>\n",
              "      <td>Whitefield</td>\n",
              "      <td>3 BHK</td>\n",
              "      <td>unknown</td>\n",
              "      <td>1800</td>\n",
              "      <td>2.0</td>\n",
              "      <td>2.0</td>\n",
              "      <td>70.00</td>\n",
              "    </tr>\n",
              "    <tr>\n",
              "      <th>11</th>\n",
              "      <td>Plot  Area</td>\n",
              "      <td>Ready To Move</td>\n",
              "      <td>Whitefield</td>\n",
              "      <td>4 Bedroom</td>\n",
              "      <td>Prrry M</td>\n",
              "      <td>2785</td>\n",
              "      <td>5.0</td>\n",
              "      <td>3.0</td>\n",
              "      <td>295.00</td>\n",
              "    </tr>\n",
              "    <tr>\n",
              "      <th>12</th>\n",
              "      <td>Super built-up  Area</td>\n",
              "      <td>Ready To Move</td>\n",
              "      <td>7th Phase JP Nagar</td>\n",
              "      <td>2 BHK</td>\n",
              "      <td>Shncyes</td>\n",
              "      <td>1000</td>\n",
              "      <td>2.0</td>\n",
              "      <td>1.0</td>\n",
              "      <td>38.00</td>\n",
              "    </tr>\n",
              "    <tr>\n",
              "      <th>13</th>\n",
              "      <td>Built-up  Area</td>\n",
              "      <td>Ready To Move</td>\n",
              "      <td>Gottigere</td>\n",
              "      <td>2 BHK</td>\n",
              "      <td>unknown</td>\n",
              "      <td>1100</td>\n",
              "      <td>2.0</td>\n",
              "      <td>2.0</td>\n",
              "      <td>40.00</td>\n",
              "    </tr>\n",
              "    <tr>\n",
              "      <th>14</th>\n",
              "      <td>Plot  Area</td>\n",
              "      <td>Ready To Move</td>\n",
              "      <td>Sarjapur</td>\n",
              "      <td>3 Bedroom</td>\n",
              "      <td>Skityer</td>\n",
              "      <td>2250</td>\n",
              "      <td>3.0</td>\n",
              "      <td>2.0</td>\n",
              "      <td>148.00</td>\n",
              "    </tr>\n",
              "    <tr>\n",
              "      <th>15</th>\n",
              "      <td>Super built-up  Area</td>\n",
              "      <td>Ready To Move</td>\n",
              "      <td>Mysore Road</td>\n",
              "      <td>2 BHK</td>\n",
              "      <td>PrntaEn</td>\n",
              "      <td>1175</td>\n",
              "      <td>2.0</td>\n",
              "      <td>2.0</td>\n",
              "      <td>73.50</td>\n",
              "    </tr>\n",
              "    <tr>\n",
              "      <th>16</th>\n",
              "      <td>Super built-up  Area</td>\n",
              "      <td>Ready To Move</td>\n",
              "      <td>Bisuvanahalli</td>\n",
              "      <td>3 BHK</td>\n",
              "      <td>Prityel</td>\n",
              "      <td>1180</td>\n",
              "      <td>3.0</td>\n",
              "      <td>2.0</td>\n",
              "      <td>48.00</td>\n",
              "    </tr>\n",
              "    <tr>\n",
              "      <th>17</th>\n",
              "      <td>Super built-up  Area</td>\n",
              "      <td>Ready To Move</td>\n",
              "      <td>Raja Rajeshwari Nagar</td>\n",
              "      <td>3 BHK</td>\n",
              "      <td>GrrvaGr</td>\n",
              "      <td>1540</td>\n",
              "      <td>3.0</td>\n",
              "      <td>3.0</td>\n",
              "      <td>60.00</td>\n",
              "    </tr>\n",
              "    <tr>\n",
              "      <th>18</th>\n",
              "      <td>Super built-up  Area</td>\n",
              "      <td>Ready To Move</td>\n",
              "      <td>Ramakrishnappa Layout</td>\n",
              "      <td>3 BHK</td>\n",
              "      <td>PeBayle</td>\n",
              "      <td>2770</td>\n",
              "      <td>4.0</td>\n",
              "      <td>2.0</td>\n",
              "      <td>290.00</td>\n",
              "    </tr>\n",
              "    <tr>\n",
              "      <th>19</th>\n",
              "      <td>Super built-up  Area</td>\n",
              "      <td>Ready To Move</td>\n",
              "      <td>Manayata Tech Park</td>\n",
              "      <td>2 BHK</td>\n",
              "      <td>unknown</td>\n",
              "      <td>1100</td>\n",
              "      <td>2.0</td>\n",
              "      <td>2.0</td>\n",
              "      <td>48.00</td>\n",
              "    </tr>\n",
              "    <tr>\n",
              "      <th>20</th>\n",
              "      <td>Built-up  Area</td>\n",
              "      <td>Ready To Move</td>\n",
              "      <td>Kengeri</td>\n",
              "      <td>1 BHK</td>\n",
              "      <td>unknown</td>\n",
              "      <td>600</td>\n",
              "      <td>1.0</td>\n",
              "      <td>1.0</td>\n",
              "      <td>15.00</td>\n",
              "    </tr>\n",
              "    <tr>\n",
              "      <th>21</th>\n",
              "      <td>Super built-up  Area</td>\n",
              "      <td>19-Dec</td>\n",
              "      <td>Binny Pete</td>\n",
              "      <td>3 BHK</td>\n",
              "      <td>She 2rk</td>\n",
              "      <td>1755</td>\n",
              "      <td>3.0</td>\n",
              "      <td>1.0</td>\n",
              "      <td>122.00</td>\n",
              "    </tr>\n",
              "    <tr>\n",
              "      <th>22</th>\n",
              "      <td>Plot  Area</td>\n",
              "      <td>Ready To Move</td>\n",
              "      <td>Thanisandra</td>\n",
              "      <td>4 Bedroom</td>\n",
              "      <td>Soitya</td>\n",
              "      <td>2800</td>\n",
              "      <td>5.0</td>\n",
              "      <td>2.0</td>\n",
              "      <td>380.00</td>\n",
              "    </tr>\n",
              "    <tr>\n",
              "      <th>23</th>\n",
              "      <td>Super built-up  Area</td>\n",
              "      <td>Ready To Move</td>\n",
              "      <td>Bellandur</td>\n",
              "      <td>3 BHK</td>\n",
              "      <td>unknown</td>\n",
              "      <td>1767</td>\n",
              "      <td>3.0</td>\n",
              "      <td>1.0</td>\n",
              "      <td>103.00</td>\n",
              "    </tr>\n",
              "    <tr>\n",
              "      <th>24</th>\n",
              "      <td>Super built-up  Area</td>\n",
              "      <td>18-Nov</td>\n",
              "      <td>Thanisandra</td>\n",
              "      <td>1 RK</td>\n",
              "      <td>Bhe 2ko</td>\n",
              "      <td>510</td>\n",
              "      <td>1.0</td>\n",
              "      <td>0.0</td>\n",
              "      <td>25.25</td>\n",
              "    </tr>\n",
              "    <tr>\n",
              "      <th>25</th>\n",
              "      <td>Super built-up  Area</td>\n",
              "      <td>18-May</td>\n",
              "      <td>Mangammanapalya</td>\n",
              "      <td>3 BHK</td>\n",
              "      <td>unknown</td>\n",
              "      <td>1250</td>\n",
              "      <td>3.0</td>\n",
              "      <td>2.0</td>\n",
              "      <td>56.00</td>\n",
              "    </tr>\n",
              "    <tr>\n",
              "      <th>26</th>\n",
              "      <td>Super built-up  Area</td>\n",
              "      <td>Ready To Move</td>\n",
              "      <td>Electronic City</td>\n",
              "      <td>2 BHK</td>\n",
              "      <td>Itelaa</td>\n",
              "      <td>660</td>\n",
              "      <td>1.0</td>\n",
              "      <td>1.0</td>\n",
              "      <td>23.10</td>\n",
              "    </tr>\n",
              "    <tr>\n",
              "      <th>27</th>\n",
              "      <td>Built-up  Area</td>\n",
              "      <td>20-Dec</td>\n",
              "      <td>Whitefield</td>\n",
              "      <td>3 BHK</td>\n",
              "      <td>unknown</td>\n",
              "      <td>1610</td>\n",
              "      <td>3.0</td>\n",
              "      <td>2.0</td>\n",
              "      <td>81.00</td>\n",
              "    </tr>\n",
              "    <tr>\n",
              "      <th>28</th>\n",
              "      <td>Super built-up  Area</td>\n",
              "      <td>17-Oct</td>\n",
              "      <td>Ramagondanahalli</td>\n",
              "      <td>2 BHK</td>\n",
              "      <td>ViistLa</td>\n",
              "      <td>1151</td>\n",
              "      <td>2.0</td>\n",
              "      <td>2.0</td>\n",
              "      <td>48.77</td>\n",
              "    </tr>\n",
              "    <tr>\n",
              "      <th>29</th>\n",
              "      <td>Super built-up  Area</td>\n",
              "      <td>Ready To Move</td>\n",
              "      <td>Electronic City</td>\n",
              "      <td>3 BHK</td>\n",
              "      <td>KBityo</td>\n",
              "      <td>1025</td>\n",
              "      <td>2.0</td>\n",
              "      <td>1.0</td>\n",
              "      <td>47.00</td>\n",
              "    </tr>\n",
              "    <tr>\n",
              "      <th>...</th>\n",
              "      <td>...</td>\n",
              "      <td>...</td>\n",
              "      <td>...</td>\n",
              "      <td>...</td>\n",
              "      <td>...</td>\n",
              "      <td>...</td>\n",
              "      <td>...</td>\n",
              "      <td>...</td>\n",
              "      <td>...</td>\n",
              "    </tr>\n",
              "    <tr>\n",
              "      <th>13290</th>\n",
              "      <td>Super built-up  Area</td>\n",
              "      <td>Ready To Move</td>\n",
              "      <td>Sarjapur  Road</td>\n",
              "      <td>4 BHK</td>\n",
              "      <td>Maana E</td>\n",
              "      <td>4050</td>\n",
              "      <td>2.0</td>\n",
              "      <td>1.0</td>\n",
              "      <td>450.00</td>\n",
              "    </tr>\n",
              "    <tr>\n",
              "      <th>13291</th>\n",
              "      <td>Plot  Area</td>\n",
              "      <td>18-Jan</td>\n",
              "      <td>Weavers Colony</td>\n",
              "      <td>1 Bedroom</td>\n",
              "      <td>unknown</td>\n",
              "      <td>812</td>\n",
              "      <td>1.0</td>\n",
              "      <td>0.0</td>\n",
              "      <td>26.00</td>\n",
              "    </tr>\n",
              "    <tr>\n",
              "      <th>13292</th>\n",
              "      <td>Super built-up  Area</td>\n",
              "      <td>18-Jul</td>\n",
              "      <td>Udayapur Village</td>\n",
              "      <td>3 BHK</td>\n",
              "      <td>Plowsri</td>\n",
              "      <td>1440</td>\n",
              "      <td>2.0</td>\n",
              "      <td>2.0</td>\n",
              "      <td>63.93</td>\n",
              "    </tr>\n",
              "    <tr>\n",
              "      <th>13293</th>\n",
              "      <td>Super built-up  Area</td>\n",
              "      <td>Ready To Move</td>\n",
              "      <td>Sarjapur  Road</td>\n",
              "      <td>4 BHK</td>\n",
              "      <td>Puallhi</td>\n",
              "      <td>2425</td>\n",
              "      <td>5.0</td>\n",
              "      <td>1.0</td>\n",
              "      <td>195.00</td>\n",
              "    </tr>\n",
              "    <tr>\n",
              "      <th>13294</th>\n",
              "      <td>Super built-up  Area</td>\n",
              "      <td>Ready To Move</td>\n",
              "      <td>Sultan Palaya</td>\n",
              "      <td>4 BHK</td>\n",
              "      <td>RSntsAp</td>\n",
              "      <td>2200</td>\n",
              "      <td>3.0</td>\n",
              "      <td>3.0</td>\n",
              "      <td>80.00</td>\n",
              "    </tr>\n",
              "    <tr>\n",
              "      <th>13295</th>\n",
              "      <td>Super built-up  Area</td>\n",
              "      <td>18-Feb</td>\n",
              "      <td>Haralur Road</td>\n",
              "      <td>3 BHK</td>\n",
              "      <td>SNnia E</td>\n",
              "      <td>1810</td>\n",
              "      <td>3.0</td>\n",
              "      <td>2.0</td>\n",
              "      <td>112.00</td>\n",
              "    </tr>\n",
              "    <tr>\n",
              "      <th>13296</th>\n",
              "      <td>Super built-up  Area</td>\n",
              "      <td>Ready To Move</td>\n",
              "      <td>Cox Town</td>\n",
              "      <td>2 BHK</td>\n",
              "      <td>unknown</td>\n",
              "      <td>1200</td>\n",
              "      <td>2.0</td>\n",
              "      <td>2.0</td>\n",
              "      <td>140.00</td>\n",
              "    </tr>\n",
              "    <tr>\n",
              "      <th>13297</th>\n",
              "      <td>Super built-up  Area</td>\n",
              "      <td>Ready To Move</td>\n",
              "      <td>Electronic City</td>\n",
              "      <td>2 BHK</td>\n",
              "      <td>GMown E</td>\n",
              "      <td>1060</td>\n",
              "      <td>2.0</td>\n",
              "      <td>1.0</td>\n",
              "      <td>52.00</td>\n",
              "    </tr>\n",
              "    <tr>\n",
              "      <th>13298</th>\n",
              "      <td>Super built-up  Area</td>\n",
              "      <td>Ready To Move</td>\n",
              "      <td>Kenchenahalli</td>\n",
              "      <td>2 BHK</td>\n",
              "      <td>AriosPa</td>\n",
              "      <td>1015</td>\n",
              "      <td>2.0</td>\n",
              "      <td>2.0</td>\n",
              "      <td>60.00</td>\n",
              "    </tr>\n",
              "    <tr>\n",
              "      <th>13299</th>\n",
              "      <td>Super built-up  Area</td>\n",
              "      <td>18-Dec</td>\n",
              "      <td>Whitefield</td>\n",
              "      <td>4 BHK</td>\n",
              "      <td>Prtates</td>\n",
              "      <td>2830 - 2882</td>\n",
              "      <td>5.0</td>\n",
              "      <td>0.0</td>\n",
              "      <td>154.50</td>\n",
              "    </tr>\n",
              "    <tr>\n",
              "      <th>13300</th>\n",
              "      <td>Plot  Area</td>\n",
              "      <td>Ready To Move</td>\n",
              "      <td>Hosakerehalli</td>\n",
              "      <td>5 Bedroom</td>\n",
              "      <td>unknown</td>\n",
              "      <td>1500</td>\n",
              "      <td>6.0</td>\n",
              "      <td>2.0</td>\n",
              "      <td>145.00</td>\n",
              "    </tr>\n",
              "    <tr>\n",
              "      <th>13301</th>\n",
              "      <td>Super built-up  Area</td>\n",
              "      <td>Ready To Move</td>\n",
              "      <td>Kothanur</td>\n",
              "      <td>3 BHK</td>\n",
              "      <td>unknown</td>\n",
              "      <td>1454</td>\n",
              "      <td>3.0</td>\n",
              "      <td>3.0</td>\n",
              "      <td>71.50</td>\n",
              "    </tr>\n",
              "    <tr>\n",
              "      <th>13302</th>\n",
              "      <td>Super built-up  Area</td>\n",
              "      <td>Ready To Move</td>\n",
              "      <td>Annaiah Reddy Layout</td>\n",
              "      <td>2 BHK</td>\n",
              "      <td>unknown</td>\n",
              "      <td>1075</td>\n",
              "      <td>2.0</td>\n",
              "      <td>2.0</td>\n",
              "      <td>48.00</td>\n",
              "    </tr>\n",
              "    <tr>\n",
              "      <th>13303</th>\n",
              "      <td>Plot  Area</td>\n",
              "      <td>Ready To Move</td>\n",
              "      <td>Vidyaranyapura</td>\n",
              "      <td>5 Bedroom</td>\n",
              "      <td>unknown</td>\n",
              "      <td>774</td>\n",
              "      <td>5.0</td>\n",
              "      <td>3.0</td>\n",
              "      <td>70.00</td>\n",
              "    </tr>\n",
              "    <tr>\n",
              "      <th>13304</th>\n",
              "      <td>Super built-up  Area</td>\n",
              "      <td>Ready To Move</td>\n",
              "      <td>Raja Rajeshwari Nagar</td>\n",
              "      <td>2 BHK</td>\n",
              "      <td>GrrvaGr</td>\n",
              "      <td>1187</td>\n",
              "      <td>2.0</td>\n",
              "      <td>2.0</td>\n",
              "      <td>40.14</td>\n",
              "    </tr>\n",
              "    <tr>\n",
              "      <th>13305</th>\n",
              "      <td>Carpet  Area</td>\n",
              "      <td>Ready To Move</td>\n",
              "      <td>Hulimavu</td>\n",
              "      <td>1 BHK</td>\n",
              "      <td>unknown</td>\n",
              "      <td>500</td>\n",
              "      <td>1.0</td>\n",
              "      <td>3.0</td>\n",
              "      <td>220.00</td>\n",
              "    </tr>\n",
              "    <tr>\n",
              "      <th>13306</th>\n",
              "      <td>Plot  Area</td>\n",
              "      <td>Ready To Move</td>\n",
              "      <td>Rajarajeshwari Nagara</td>\n",
              "      <td>4 Bedroom</td>\n",
              "      <td>unknown</td>\n",
              "      <td>1200</td>\n",
              "      <td>5.0</td>\n",
              "      <td>3.0</td>\n",
              "      <td>325.00</td>\n",
              "    </tr>\n",
              "    <tr>\n",
              "      <th>13307</th>\n",
              "      <td>Built-up  Area</td>\n",
              "      <td>Ready To Move</td>\n",
              "      <td>Billekahalli</td>\n",
              "      <td>3 BHK</td>\n",
              "      <td>unknown</td>\n",
              "      <td>1805</td>\n",
              "      <td>3.0</td>\n",
              "      <td>3.0</td>\n",
              "      <td>134.00</td>\n",
              "    </tr>\n",
              "    <tr>\n",
              "      <th>13308</th>\n",
              "      <td>Built-up  Area</td>\n",
              "      <td>Ready To Move</td>\n",
              "      <td>Bannerghatta Road</td>\n",
              "      <td>3 BHK</td>\n",
              "      <td>Baanise</td>\n",
              "      <td>1527</td>\n",
              "      <td>3.0</td>\n",
              "      <td>1.0</td>\n",
              "      <td>142.00</td>\n",
              "    </tr>\n",
              "    <tr>\n",
              "      <th>13309</th>\n",
              "      <td>Super built-up  Area</td>\n",
              "      <td>Ready To Move</td>\n",
              "      <td>Yeshwanthpur</td>\n",
              "      <td>3 BHK</td>\n",
              "      <td>IBityin</td>\n",
              "      <td>1675</td>\n",
              "      <td>3.0</td>\n",
              "      <td>1.0</td>\n",
              "      <td>92.13</td>\n",
              "    </tr>\n",
              "    <tr>\n",
              "      <th>13310</th>\n",
              "      <td>Super built-up  Area</td>\n",
              "      <td>Ready To Move</td>\n",
              "      <td>Rachenahalli</td>\n",
              "      <td>2 BHK</td>\n",
              "      <td>unknown</td>\n",
              "      <td>1050</td>\n",
              "      <td>2.0</td>\n",
              "      <td>2.0</td>\n",
              "      <td>52.71</td>\n",
              "    </tr>\n",
              "    <tr>\n",
              "      <th>13311</th>\n",
              "      <td>Plot  Area</td>\n",
              "      <td>Ready To Move</td>\n",
              "      <td>Ramamurthy Nagar</td>\n",
              "      <td>7 Bedroom</td>\n",
              "      <td>unknown</td>\n",
              "      <td>1500</td>\n",
              "      <td>9.0</td>\n",
              "      <td>2.0</td>\n",
              "      <td>250.00</td>\n",
              "    </tr>\n",
              "    <tr>\n",
              "      <th>13312</th>\n",
              "      <td>Super built-up  Area</td>\n",
              "      <td>Ready To Move</td>\n",
              "      <td>Bellandur</td>\n",
              "      <td>2 BHK</td>\n",
              "      <td>unknown</td>\n",
              "      <td>1262</td>\n",
              "      <td>2.0</td>\n",
              "      <td>2.0</td>\n",
              "      <td>47.00</td>\n",
              "    </tr>\n",
              "    <tr>\n",
              "      <th>13313</th>\n",
              "      <td>Super built-up  Area</td>\n",
              "      <td>Ready To Move</td>\n",
              "      <td>Uttarahalli</td>\n",
              "      <td>3 BHK</td>\n",
              "      <td>Aklia R</td>\n",
              "      <td>1345</td>\n",
              "      <td>2.0</td>\n",
              "      <td>1.0</td>\n",
              "      <td>57.00</td>\n",
              "    </tr>\n",
              "    <tr>\n",
              "      <th>13314</th>\n",
              "      <td>Super built-up  Area</td>\n",
              "      <td>Ready To Move</td>\n",
              "      <td>Green Glen Layout</td>\n",
              "      <td>3 BHK</td>\n",
              "      <td>SoosePr</td>\n",
              "      <td>1715</td>\n",
              "      <td>3.0</td>\n",
              "      <td>3.0</td>\n",
              "      <td>112.00</td>\n",
              "    </tr>\n",
              "    <tr>\n",
              "      <th>13315</th>\n",
              "      <td>Built-up  Area</td>\n",
              "      <td>Ready To Move</td>\n",
              "      <td>Whitefield</td>\n",
              "      <td>5 Bedroom</td>\n",
              "      <td>ArsiaEx</td>\n",
              "      <td>3453</td>\n",
              "      <td>4.0</td>\n",
              "      <td>0.0</td>\n",
              "      <td>231.00</td>\n",
              "    </tr>\n",
              "    <tr>\n",
              "      <th>13316</th>\n",
              "      <td>Super built-up  Area</td>\n",
              "      <td>Ready To Move</td>\n",
              "      <td>Richards Town</td>\n",
              "      <td>4 BHK</td>\n",
              "      <td>unknown</td>\n",
              "      <td>3600</td>\n",
              "      <td>5.0</td>\n",
              "      <td>0.0</td>\n",
              "      <td>400.00</td>\n",
              "    </tr>\n",
              "    <tr>\n",
              "      <th>13317</th>\n",
              "      <td>Built-up  Area</td>\n",
              "      <td>Ready To Move</td>\n",
              "      <td>Raja Rajeshwari Nagar</td>\n",
              "      <td>2 BHK</td>\n",
              "      <td>Mahla T</td>\n",
              "      <td>1141</td>\n",
              "      <td>2.0</td>\n",
              "      <td>1.0</td>\n",
              "      <td>60.00</td>\n",
              "    </tr>\n",
              "    <tr>\n",
              "      <th>13318</th>\n",
              "      <td>Super built-up  Area</td>\n",
              "      <td>18-Jun</td>\n",
              "      <td>Padmanabhanagar</td>\n",
              "      <td>4 BHK</td>\n",
              "      <td>SollyCl</td>\n",
              "      <td>4689</td>\n",
              "      <td>4.0</td>\n",
              "      <td>1.0</td>\n",
              "      <td>488.00</td>\n",
              "    </tr>\n",
              "    <tr>\n",
              "      <th>13319</th>\n",
              "      <td>Super built-up  Area</td>\n",
              "      <td>Ready To Move</td>\n",
              "      <td>Doddathoguru</td>\n",
              "      <td>1 BHK</td>\n",
              "      <td>unknown</td>\n",
              "      <td>550</td>\n",
              "      <td>1.0</td>\n",
              "      <td>1.0</td>\n",
              "      <td>17.00</td>\n",
              "    </tr>\n",
              "  </tbody>\n",
              "</table>\n",
              "<p>13320 rows × 9 columns</p>\n",
              "</div>"
            ],
            "text/plain": [
              "                  area_type   availability  ... balcony   price\n",
              "0      Super built-up  Area         19-Dec  ...     1.0   39.07\n",
              "1                Plot  Area  Ready To Move  ...     3.0  120.00\n",
              "2            Built-up  Area  Ready To Move  ...     3.0   62.00\n",
              "3      Super built-up  Area  Ready To Move  ...     1.0   95.00\n",
              "4      Super built-up  Area  Ready To Move  ...     1.0   51.00\n",
              "5      Super built-up  Area  Ready To Move  ...     1.0   38.00\n",
              "6      Super built-up  Area         18-May  ...     1.0  204.00\n",
              "7      Super built-up  Area  Ready To Move  ...     1.0  600.00\n",
              "8      Super built-up  Area  Ready To Move  ...     1.0   63.25\n",
              "9                Plot  Area  Ready To Move  ...     1.0  370.00\n",
              "10     Super built-up  Area         18-Feb  ...     2.0   70.00\n",
              "11               Plot  Area  Ready To Move  ...     3.0  295.00\n",
              "12     Super built-up  Area  Ready To Move  ...     1.0   38.00\n",
              "13           Built-up  Area  Ready To Move  ...     2.0   40.00\n",
              "14               Plot  Area  Ready To Move  ...     2.0  148.00\n",
              "15     Super built-up  Area  Ready To Move  ...     2.0   73.50\n",
              "16     Super built-up  Area  Ready To Move  ...     2.0   48.00\n",
              "17     Super built-up  Area  Ready To Move  ...     3.0   60.00\n",
              "18     Super built-up  Area  Ready To Move  ...     2.0  290.00\n",
              "19     Super built-up  Area  Ready To Move  ...     2.0   48.00\n",
              "20           Built-up  Area  Ready To Move  ...     1.0   15.00\n",
              "21     Super built-up  Area         19-Dec  ...     1.0  122.00\n",
              "22               Plot  Area  Ready To Move  ...     2.0  380.00\n",
              "23     Super built-up  Area  Ready To Move  ...     1.0  103.00\n",
              "24     Super built-up  Area         18-Nov  ...     0.0   25.25\n",
              "25     Super built-up  Area         18-May  ...     2.0   56.00\n",
              "26     Super built-up  Area  Ready To Move  ...     1.0   23.10\n",
              "27           Built-up  Area         20-Dec  ...     2.0   81.00\n",
              "28     Super built-up  Area         17-Oct  ...     2.0   48.77\n",
              "29     Super built-up  Area  Ready To Move  ...     1.0   47.00\n",
              "...                     ...            ...  ...     ...     ...\n",
              "13290  Super built-up  Area  Ready To Move  ...     1.0  450.00\n",
              "13291            Plot  Area         18-Jan  ...     0.0   26.00\n",
              "13292  Super built-up  Area         18-Jul  ...     2.0   63.93\n",
              "13293  Super built-up  Area  Ready To Move  ...     1.0  195.00\n",
              "13294  Super built-up  Area  Ready To Move  ...     3.0   80.00\n",
              "13295  Super built-up  Area         18-Feb  ...     2.0  112.00\n",
              "13296  Super built-up  Area  Ready To Move  ...     2.0  140.00\n",
              "13297  Super built-up  Area  Ready To Move  ...     1.0   52.00\n",
              "13298  Super built-up  Area  Ready To Move  ...     2.0   60.00\n",
              "13299  Super built-up  Area         18-Dec  ...     0.0  154.50\n",
              "13300            Plot  Area  Ready To Move  ...     2.0  145.00\n",
              "13301  Super built-up  Area  Ready To Move  ...     3.0   71.50\n",
              "13302  Super built-up  Area  Ready To Move  ...     2.0   48.00\n",
              "13303            Plot  Area  Ready To Move  ...     3.0   70.00\n",
              "13304  Super built-up  Area  Ready To Move  ...     2.0   40.14\n",
              "13305          Carpet  Area  Ready To Move  ...     3.0  220.00\n",
              "13306            Plot  Area  Ready To Move  ...     3.0  325.00\n",
              "13307        Built-up  Area  Ready To Move  ...     3.0  134.00\n",
              "13308        Built-up  Area  Ready To Move  ...     1.0  142.00\n",
              "13309  Super built-up  Area  Ready To Move  ...     1.0   92.13\n",
              "13310  Super built-up  Area  Ready To Move  ...     2.0   52.71\n",
              "13311            Plot  Area  Ready To Move  ...     2.0  250.00\n",
              "13312  Super built-up  Area  Ready To Move  ...     2.0   47.00\n",
              "13313  Super built-up  Area  Ready To Move  ...     1.0   57.00\n",
              "13314  Super built-up  Area  Ready To Move  ...     3.0  112.00\n",
              "13315        Built-up  Area  Ready To Move  ...     0.0  231.00\n",
              "13316  Super built-up  Area  Ready To Move  ...     0.0  400.00\n",
              "13317        Built-up  Area  Ready To Move  ...     1.0   60.00\n",
              "13318  Super built-up  Area         18-Jun  ...     1.0  488.00\n",
              "13319  Super built-up  Area  Ready To Move  ...     1.0   17.00\n",
              "\n",
              "[13320 rows x 9 columns]"
            ]
          },
          "metadata": {
            "tags": []
          },
          "execution_count": 12
        }
      ]
    },
    {
      "cell_type": "code",
      "metadata": {
        "id": "9y8OooivH1cl",
        "colab_type": "code",
        "outputId": "19c53334-b765-4d1c-e572-d15f0b134778",
        "colab": {
          "base_uri": "https://localhost:8080/",
          "height": 318
        }
      },
      "source": [
        "########## Finding out the missing value and its percentage of the remaining columns ######\n",
        "columns_with_nan_values = []\n",
        "columns_without_nan_values = []\n",
        "for i in new_df.columns:\n",
        "    if new_df[i].isnull().sum() > 0:\n",
        "        columns_with_nan_values.append(i)\n",
        "    else :\n",
        "        columns_without_nan_values.append(i)\n",
        "###### Missing Value analysis and finding out the percentage of missing values ######\n",
        "\n",
        "missing_value = pd.DataFrame(new_df.isnull().sum()).reset_index()\n",
        "missing_value = missing_value.rename(columns = {'index': 'Variables', 0: 'Missing_values'})\n",
        "missing_value\n",
        "missing_value['Missing_percentage'] = round(missing_value['Missing_values']/len(new_df)*100,2) \n",
        "missing_value = missing_value.sort_values('Missing_percentage', ascending = False).reset_index(drop = True)\n",
        "missing_value"
      ],
      "execution_count": 0,
      "outputs": [
        {
          "output_type": "execute_result",
          "data": {
            "text/html": [
              "<div>\n",
              "<style scoped>\n",
              "    .dataframe tbody tr th:only-of-type {\n",
              "        vertical-align: middle;\n",
              "    }\n",
              "\n",
              "    .dataframe tbody tr th {\n",
              "        vertical-align: top;\n",
              "    }\n",
              "\n",
              "    .dataframe thead th {\n",
              "        text-align: right;\n",
              "    }\n",
              "</style>\n",
              "<table border=\"1\" class=\"dataframe\">\n",
              "  <thead>\n",
              "    <tr style=\"text-align: right;\">\n",
              "      <th></th>\n",
              "      <th>Variables</th>\n",
              "      <th>Missing_values</th>\n",
              "      <th>Missing_percentage</th>\n",
              "    </tr>\n",
              "  </thead>\n",
              "  <tbody>\n",
              "    <tr>\n",
              "      <th>0</th>\n",
              "      <td>area_type</td>\n",
              "      <td>0</td>\n",
              "      <td>0.0</td>\n",
              "    </tr>\n",
              "    <tr>\n",
              "      <th>1</th>\n",
              "      <td>availability</td>\n",
              "      <td>0</td>\n",
              "      <td>0.0</td>\n",
              "    </tr>\n",
              "    <tr>\n",
              "      <th>2</th>\n",
              "      <td>location</td>\n",
              "      <td>0</td>\n",
              "      <td>0.0</td>\n",
              "    </tr>\n",
              "    <tr>\n",
              "      <th>3</th>\n",
              "      <td>size</td>\n",
              "      <td>0</td>\n",
              "      <td>0.0</td>\n",
              "    </tr>\n",
              "    <tr>\n",
              "      <th>4</th>\n",
              "      <td>society</td>\n",
              "      <td>0</td>\n",
              "      <td>0.0</td>\n",
              "    </tr>\n",
              "    <tr>\n",
              "      <th>5</th>\n",
              "      <td>total_sqft</td>\n",
              "      <td>0</td>\n",
              "      <td>0.0</td>\n",
              "    </tr>\n",
              "    <tr>\n",
              "      <th>6</th>\n",
              "      <td>bath</td>\n",
              "      <td>0</td>\n",
              "      <td>0.0</td>\n",
              "    </tr>\n",
              "    <tr>\n",
              "      <th>7</th>\n",
              "      <td>balcony</td>\n",
              "      <td>0</td>\n",
              "      <td>0.0</td>\n",
              "    </tr>\n",
              "    <tr>\n",
              "      <th>8</th>\n",
              "      <td>price</td>\n",
              "      <td>0</td>\n",
              "      <td>0.0</td>\n",
              "    </tr>\n",
              "  </tbody>\n",
              "</table>\n",
              "</div>"
            ],
            "text/plain": [
              "      Variables  Missing_values  Missing_percentage\n",
              "0     area_type               0                 0.0\n",
              "1  availability               0                 0.0\n",
              "2      location               0                 0.0\n",
              "3          size               0                 0.0\n",
              "4       society               0                 0.0\n",
              "5    total_sqft               0                 0.0\n",
              "6          bath               0                 0.0\n",
              "7       balcony               0                 0.0\n",
              "8         price               0                 0.0"
            ]
          },
          "metadata": {
            "tags": []
          },
          "execution_count": 13
        }
      ]
    },
    {
      "cell_type": "markdown",
      "metadata": {
        "id": "6Ta5tn8hUcTW",
        "colab_type": "text"
      },
      "source": [
        "Now We can see that there is no missing value in our data. We can have some plots now to find the relationship between the variables to predict prices"
      ]
    },
    {
      "cell_type": "code",
      "metadata": {
        "id": "kKXB1E9nMiG9",
        "colab_type": "code",
        "outputId": "cf0cbc87-2c19-43ca-d04c-deff87e94ec9",
        "colab": {
          "base_uri": "https://localhost:8080/",
          "height": 145
        }
      },
      "source": [
        "prices = new_df[\"price\"]\n",
        "    # Minimum price of the data\n",
        "minimum_price = np.min(prices)\n",
        "\n",
        "# Maximum price of the data\n",
        "maximum_price = np.max(prices)\n",
        "\n",
        "# Mean price of the data\n",
        "mean_price = np.mean(prices)\n",
        "\n",
        "# Median price of the data\n",
        "median_price = np.median(prices)\n",
        "\n",
        "# Standard deviation of prices of the data\n",
        "std_price = np.std(prices)\n",
        "\n",
        "# Show the calculated statistics\n",
        "print(\"Statistics for Bangalore housing dataset:\\n\")\n",
        "print(\"Minimum price: lacs {:,.2f}\".format(minimum_price))\n",
        "print(\"Maximum price: lacs {:,.2f}\".format(maximum_price))\n",
        "print(\"Mean price: lacs {:,.2f}\".format(mean_price))\n",
        "print(\"Median price lacs {:,.2f}\".format(median_price))\n",
        "print(\"Standard deviation of prices: lacs {:,.2f}\".format(std_price))"
      ],
      "execution_count": 0,
      "outputs": [
        {
          "output_type": "stream",
          "text": [
            "Statistics for Bangalore housing dataset:\n",
            "\n",
            "Minimum price: lacs 8.00\n",
            "Maximum price: lacs 3,600.00\n",
            "Mean price: lacs 112.57\n",
            "Median price lacs 72.00\n",
            "Standard deviation of prices: lacs 148.97\n"
          ],
          "name": "stdout"
        }
      ]
    },
    {
      "cell_type": "code",
      "metadata": {
        "id": "6R-pHNVYM7tM",
        "colab_type": "code",
        "outputId": "53d1d612-e148-49d3-f73b-b1e26bbf29fd",
        "colab": {
          "base_uri": "https://localhost:8080/",
          "height": 288
        }
      },
      "source": [
        "new_df.describe()"
      ],
      "execution_count": 0,
      "outputs": [
        {
          "output_type": "execute_result",
          "data": {
            "text/html": [
              "<div>\n",
              "<style scoped>\n",
              "    .dataframe tbody tr th:only-of-type {\n",
              "        vertical-align: middle;\n",
              "    }\n",
              "\n",
              "    .dataframe tbody tr th {\n",
              "        vertical-align: top;\n",
              "    }\n",
              "\n",
              "    .dataframe thead th {\n",
              "        text-align: right;\n",
              "    }\n",
              "</style>\n",
              "<table border=\"1\" class=\"dataframe\">\n",
              "  <thead>\n",
              "    <tr style=\"text-align: right;\">\n",
              "      <th></th>\n",
              "      <th>bath</th>\n",
              "      <th>balcony</th>\n",
              "      <th>price</th>\n",
              "    </tr>\n",
              "  </thead>\n",
              "  <tbody>\n",
              "    <tr>\n",
              "      <th>count</th>\n",
              "      <td>13320.000000</td>\n",
              "      <td>13320.000000</td>\n",
              "      <td>13320.000000</td>\n",
              "    </tr>\n",
              "    <tr>\n",
              "      <th>mean</th>\n",
              "      <td>2.691742</td>\n",
              "      <td>1.586411</td>\n",
              "      <td>112.565627</td>\n",
              "    </tr>\n",
              "    <tr>\n",
              "      <th>std</th>\n",
              "      <td>1.339907</td>\n",
              "      <td>0.818939</td>\n",
              "      <td>148.971674</td>\n",
              "    </tr>\n",
              "    <tr>\n",
              "      <th>min</th>\n",
              "      <td>1.000000</td>\n",
              "      <td>0.000000</td>\n",
              "      <td>8.000000</td>\n",
              "    </tr>\n",
              "    <tr>\n",
              "      <th>25%</th>\n",
              "      <td>2.000000</td>\n",
              "      <td>1.000000</td>\n",
              "      <td>50.000000</td>\n",
              "    </tr>\n",
              "    <tr>\n",
              "      <th>50%</th>\n",
              "      <td>2.000000</td>\n",
              "      <td>2.000000</td>\n",
              "      <td>72.000000</td>\n",
              "    </tr>\n",
              "    <tr>\n",
              "      <th>75%</th>\n",
              "      <td>3.000000</td>\n",
              "      <td>2.000000</td>\n",
              "      <td>120.000000</td>\n",
              "    </tr>\n",
              "    <tr>\n",
              "      <th>max</th>\n",
              "      <td>40.000000</td>\n",
              "      <td>3.000000</td>\n",
              "      <td>3600.000000</td>\n",
              "    </tr>\n",
              "  </tbody>\n",
              "</table>\n",
              "</div>"
            ],
            "text/plain": [
              "               bath       balcony         price\n",
              "count  13320.000000  13320.000000  13320.000000\n",
              "mean       2.691742      1.586411    112.565627\n",
              "std        1.339907      0.818939    148.971674\n",
              "min        1.000000      0.000000      8.000000\n",
              "25%        2.000000      1.000000     50.000000\n",
              "50%        2.000000      2.000000     72.000000\n",
              "75%        3.000000      2.000000    120.000000\n",
              "max       40.000000      3.000000   3600.000000"
            ]
          },
          "metadata": {
            "tags": []
          },
          "execution_count": 15
        }
      ]
    },
    {
      "cell_type": "code",
      "metadata": {
        "id": "CZ72l50exPcF",
        "colab_type": "code",
        "colab": {}
      },
      "source": [
        "from sklearn.preprocessing import LabelEncoder\n",
        "\n",
        "number = LabelEncoder()\n",
        "new_df['location'] = number.fit_transform(new_df['location'].astype(str))\n",
        "new_df['availability'] = number.fit_transform(new_df['availability'].astype(str))\n",
        "new_df['size'] = number.fit_transform(new_df['size'].astype(str))\n",
        "new_df['area_type'] = number.fit_transform(new_df['area_type'].astype(str))\n",
        "# list(number.inverse_transform(new_df['area_type'])) ## TO get back the lable \n",
        "\n"
      ],
      "execution_count": 0,
      "outputs": []
    },
    {
      "cell_type": "code",
      "metadata": {
        "id": "RP1PEmj86T5j",
        "colab_type": "code",
        "colab": {}
      },
      "source": [
        "total_sqft = []\n",
        "for i in new_df['total_sqft']:\n",
        "  a = i.replace('-','').strip()\n",
        "  a = a.replace(\"Sq. Meter\", '')\n",
        "  a = a.replace(\"  \", '')\n",
        "  a = a.replace(\"Perch\", '')\n",
        "  a = a.replace(\"Sq. Yards\", '')\n",
        "  a = a.replace(\"Ac\", '')\n",
        "  a = a.replace(\"re\", '')\n",
        "  a = a.replace(\"s\", '')\n",
        "  a = a.replace(\"Cen\", '')\n",
        "  a = a.replace(\"t\", '')\n",
        "  a = a.replace(\"Gu\", '')\n",
        "  a = a.replace(\"nh\", '')\n",
        "  a = a.replace(\"Gro\", '')\n",
        "  a = a.replace(\"a\", '')\n",
        "  a = a.replace(\"und\", '')\n",
        "  a = a[0:4]\n",
        "  total_sqft.append(a)\n",
        "new_df['original_sqft'] = total_sqft  \n",
        "new_df.columns\n",
        "new_df['original_sqft']=new_df['original_sqft'].astype(np.float)\n"
      ],
      "execution_count": 0,
      "outputs": []
    },
    {
      "cell_type": "code",
      "metadata": {
        "id": "Qp6TQxg-NTGj",
        "colab_type": "code",
        "outputId": "5e44e78c-2eff-4083-84ba-1ea5abef5971",
        "colab": {
          "base_uri": "https://localhost:8080/",
          "height": 809
        }
      },
      "source": [
        "# Boxplot of prices to get a sense of the data\n",
        "\n",
        "import matplotlib.pyplot as plt\n",
        "%matplotlib inline\n",
        "\n",
        "plt.title(\"Bangalore Home bathroom\")\n",
        "plt.ylabel(\"Number of Bathrooms\")\n",
        "plt.boxplot(new_df[\"bath\"])\n",
        "plt.show()\n",
        "\n",
        "\n",
        "plt.title(\"Bangalore Home balcony\")\n",
        "plt.ylabel(\"Number of Balcony\")\n",
        "plt.boxplot(new_df[\"balcony\"])\n",
        "plt.show()\n",
        "\n",
        "\n",
        "plt.title(\"Bangalore Home sqft\")\n",
        "plt.ylabel(\"Number of sqft\")\n",
        "plt.boxplot(new_df[\"original_sqft\"])\n",
        "plt.show()\n",
        "\n",
        "\n"
      ],
      "execution_count": 0,
      "outputs": [
        {
          "output_type": "display_data",
          "data": {
            "image/png": "[encoded data removed]",
            "text/plain": [
              "<Figure size 432x288 with 1 Axes>"
            ]
          },
          "metadata": {
            "tags": []
          }
        },
        {
          "output_type": "display_data",
          "data": {
            "image/png": "[encoded data removed]",
            "text/plain": [
              "<Figure size 432x288 with 1 Axes>"
            ]
          },
          "metadata": {
            "tags": []
          }
        },
        {
          "output_type": "display_data",
          "data": {
            "image/png": "[encoded data removed]",
            "text/plain": [
              "<Figure size 432x288 with 1 Axes>"
            ]
          },
          "metadata": {
            "tags": []
          }
        }
      ]
    },
    {
      "cell_type": "markdown",
      "metadata": {
        "id": "PhQQT12bqXu4",
        "colab_type": "text"
      },
      "source": [
        "As We can see that the number of bathrooms consist of more number of outliers. We have to remove it.\n",
        "Number of balcony doesn't contain any outlier we can keep it as it is.\n",
        "\n",
        "\n",
        "1.   Number of Bathroom consist Outliers\n",
        "\n",
        "2.   Number of sqft consist Outliers\n",
        "\n",
        "\n"
      ]
    },
    {
      "cell_type": "code",
      "metadata": {
        "id": "baUonrO2padt",
        "colab_type": "code",
        "outputId": "7d06e768-fb90-4146-91e8-48ce367a9b14",
        "colab": {
          "base_uri": "https://localhost:8080/",
          "height": 520
        }
      },
      "source": [
        "#### Bivariate analysis #####\n",
        "fig, ax = plt.subplots(figsize=(16,8))\n",
        "ax.scatter(new_df['size'], new_df['bath'])\n",
        "ax.set_xlabel('Size of the Property')\n",
        "ax.set_ylabel('Number of Bathrooms in the property')\n",
        "plt.show()"
      ],
      "execution_count": 0,
      "outputs": [
        {
          "output_type": "display_data",
          "data": {
            "image/png": "[encoded data removed]",
            "text/plain": [
              "<Figure size 1152x576 with 1 Axes>"
            ]
          },
          "metadata": {
            "tags": []
          }
        }
      ]
    },
    {
      "cell_type": "markdown",
      "metadata": {
        "id": "YPh-7tZT0FQu",
        "colab_type": "text"
      },
      "source": [
        "Now Try to find out the realtionship between the variables."
      ]
    },
    {
      "cell_type": "code",
      "metadata": {
        "id": "uKwdkpOttSpc",
        "colab_type": "code",
        "outputId": "bf5e4815-4ec7-4992-a649-697394331bd7",
        "colab": {
          "base_uri": "https://localhost:8080/",
          "height": 316
        }
      },
      "source": [
        "import seaborn as sns\n",
        "new_df['size'].value_counts().plot(kind='bar')\n",
        "plt.title('number of Bedroom')\n",
        "plt.xlabel('Bedrooms')\n",
        "plt.ylabel('Count')\n",
        "sns.despine\n",
        "\n",
        "#### Now we can SEE that The more number of buyer are for the Classes 13(3BHK) and 16(4BHK) followed by 19. \n",
        "#### So they have to focus on these class first to build the property."
      ],
      "execution_count": 0,
      "outputs": [
        {
          "output_type": "execute_result",
          "data": {
            "text/plain": [
              "<function seaborn.utils.despine>"
            ]
          },
          "metadata": {
            "tags": []
          },
          "execution_count": 20
        },
        {
          "output_type": "display_data",
          "data": {
            "image/png": "[encoded data removed]",
            "text/plain": [
              "<Figure size 432x288 with 1 Axes>"
            ]
          },
          "metadata": {
            "tags": []
          }
        }
      ]
    },
    {
      "cell_type": "code",
      "metadata": {
        "id": "pGy4AYKD3xk7",
        "colab_type": "code",
        "outputId": "ec477fcd-449b-4b61-a2b7-af82b28eaba2",
        "colab": {
          "base_uri": "https://localhost:8080/",
          "height": 822
        }
      },
      "source": [
        "plt.figure(figsize=(16,10))\n",
        "sns.jointplot(x=new_df.location.values, y=new_df.price.values, size=10)\n",
        "plt.ylabel('Price', fontsize=12)\n",
        "plt.xlabel('Location', fontsize=12)\n",
        "plt.show()\n",
        "# plt1 = plt()\n",
        "sns.despine"
      ],
      "execution_count": 0,
      "outputs": [
        {
          "output_type": "stream",
          "text": [
            "/usr/local/lib/python3.6/dist-packages/seaborn/axisgrid.py:2262: UserWarning: The `size` paramter has been renamed to `height`; please update your code.\n",
            "  warnings.warn(msg, UserWarning)\n"
          ],
          "name": "stderr"
        },
        {
          "output_type": "display_data",
          "data": {
            "text/plain": [
              "<Figure size 1152x720 with 0 Axes>"
            ]
          },
          "metadata": {
            "tags": []
          }
        },
        {
          "output_type": "display_data",
          "data": {
            "image/png": "[encoded data removed]",
            "text/plain": [
              "<Figure size 720x720 with 3 Axes>"
            ]
          },
          "metadata": {
            "tags": []
          }
        },
        {
          "output_type": "execute_result",
          "data": {
            "text/plain": [
              "<function seaborn.utils.despine>"
            ]
          },
          "metadata": {
            "tags": []
          },
          "execution_count": 21
        }
      ]
    },
    {
      "cell_type": "code",
      "metadata": {
        "id": "RstkoG9W4qrG",
        "colab_type": "code",
        "outputId": "36cf7841-a577-4d22-dc18-319e379203a4",
        "colab": {
          "base_uri": "https://localhost:8080/",
          "height": 299
        }
      },
      "source": [
        "plt.scatter(new_df.price,new_df.total_sqft)\n",
        "plt.title(\"Price vs Square Feet\")"
      ],
      "execution_count": 0,
      "outputs": [
        {
          "output_type": "execute_result",
          "data": {
            "text/plain": [
              "Text(0.5, 1.0, 'Price vs Square Feet')"
            ]
          },
          "metadata": {
            "tags": []
          },
          "execution_count": 22
        },
        {
          "output_type": "display_data",
          "data": {
            "image/png": "[encoded data removed]",
            "text/plain": [
              "<Figure size 432x288 with 1 Axes>"
            ]
          },
          "metadata": {
            "tags": []
          }
        }
      ]
    },
    {
      "cell_type": "markdown",
      "metadata": {
        "id": "pntVSuZJ4U_l",
        "colab_type": "text"
      },
      "source": [
        "Here We can see that the Location near 400 has the maximum price which gives us the idea about the price is dependent on location."
      ]
    },
    {
      "cell_type": "code",
      "metadata": {
        "id": "f4pZE_TEqsrn",
        "colab_type": "code",
        "colab": {}
      },
      "source": [
        "##### Finding the outlier for the Data with IQR(interquartile range)\n",
        "from scipy import stats\n",
        "import numpy as np\n",
        "from numpy import percentile\n",
        "q25, q75 = percentile(new_df['bath'], 25), percentile(new_df['bath'], 75)\n",
        "iqr = q75 - q25\n",
        "cut_off = iqr * 1.5\n",
        "lower, upper = q25 - cut_off, q75 + cut_off\n",
        "outliers = [x for x in new_df['bath'] if x < lower or x > upper]\n",
        "outliers_removed = [x for x in new_df['bath'] if x >= lower and x <= upper]\n"
      ],
      "execution_count": 0,
      "outputs": []
    },
    {
      "cell_type": "code",
      "metadata": {
        "id": "g2pMULu-DWc2",
        "colab_type": "code",
        "colab": {}
      },
      "source": [
        "## REmoving Outliers ###\n",
        "q25, q75 = percentile(new_df['original_sqft'], 25), percentile(new_df['original_sqft'], 75)\n",
        "iqr = q75 - q25\n",
        "cut_off = iqr * 1.5\n",
        "lower, upper = q25 - cut_off, q75 + cut_off\n",
        "outliers = [x for x in new_df['original_sqft'] if x < lower or x > upper]\n",
        "outliers_removed = [x for x in new_df['original_sqft'] if x >= lower and x <= upper]\n",
        "\n"
      ],
      "execution_count": 0,
      "outputs": []
    },
    {
      "cell_type": "code",
      "metadata": {
        "id": "hHj9Ws0MKJWK",
        "colab_type": "code",
        "colab": {}
      },
      "source": [
        "for i in ['bath','original_sqft']:\n",
        "    q75,q25 = np.percentile(new_df.loc[:,i],[75,25])\n",
        "    iqr = q75-q25\n",
        "    min = q25-1.5*iqr\n",
        "    max = q75+1.5*iqr\n",
        "    new_df.loc[new_df[i] < min,i] = min\n",
        "    new_df.loc[new_df[i] > max,i] = max"
      ],
      "execution_count": 0,
      "outputs": []
    },
    {
      "cell_type": "code",
      "metadata": {
        "id": "qc3130Okr07b",
        "colab_type": "code",
        "outputId": "0cd833ab-2e1f-4383-cd45-3ac414b86727",
        "colab": {
          "base_uri": "https://localhost:8080/",
          "height": 1000
        }
      },
      "source": [
        "plt.title(\"Bangalore Home bathroom\")\n",
        "plt.ylabel(\"Number of Bathrooms\")\n",
        "plt.boxplot(new_df[\"bath\"])\n",
        "plt.show()\n",
        "\n",
        "\n",
        "plt.title(\"Bangalore Home balcony\")\n",
        "plt.ylabel(\"Number of Balcony\")\n",
        "plt.boxplot(new_df[\"balcony\"])\n",
        "plt.show()\n",
        "\n",
        "\n",
        "plt.title(\"Bangalore Home sqft\")\n",
        "plt.ylabel(\"Number of sqft\")\n",
        "plt.boxplot(new_df[\"original_sqft\"])\n",
        "plt.show()\n",
        "\n",
        "\n",
        "plt.title(\"Bangalore Home prices\")\n",
        "plt.ylabel(\"prices\")\n",
        "plt.boxplot(new_df[\"price\"])\n",
        "plt.show()\n"
      ],
      "execution_count": 0,
      "outputs": [
        {
          "output_type": "display_data",
          "data": {
            "image/png": "[encoded data removed]",
            "text/plain": [
              "<Figure size 432x288 with 1 Axes>"
            ]
          },
          "metadata": {
            "tags": []
          }
        },
        {
          "output_type": "display_data",
          "data": {
            "image/png": "[encoded data removed]",
            "text/plain": [
              "<Figure size 432x288 with 1 Axes>"
            ]
          },
          "metadata": {
            "tags": []
          }
        },
        {
          "output_type": "display_data",
          "data": {
            "image/png": "[encoded data removed]",
            "text/plain": [
              "<Figure size 432x288 with 1 Axes>"
            ]
          },
          "metadata": {
            "tags": []
          }
        },
        {
          "output_type": "display_data",
          "data": {
            "image/png": "[encoded data removed]",
            "text/plain": [
              "<Figure size 432x288 with 1 Axes>"
            ]
          },
          "metadata": {
            "tags": []
          }
        }
      ]
    },
    {
      "cell_type": "markdown",
      "metadata": {
        "id": "NP4PNwek9Zz1",
        "colab_type": "text"
      },
      "source": [
        "As We can see that in our target variable ther is presence of outlier which will affect our prediction. To make our predictions more accurate we can do 2 things \n",
        "\n",
        "\n",
        "1.   Either we can remove the rows\n",
        "2.   Or we can limit the outlier upto certain range with the help of IQR.\n",
        "\n",
        "2nd option is correct as we it will result in save us the data.\n",
        "\n"
      ]
    },
    {
      "cell_type": "code",
      "metadata": {
        "id": "k6Myw-WI97Vz",
        "colab_type": "code",
        "colab": {}
      },
      "source": [
        "for i in ['price']:\n",
        "    q75,q25 = np.percentile(new_df.loc[:,i],[75,25])\n",
        "    iqr = q75-q25\n",
        "    min = q25-1.5*iqr\n",
        "    max = q75+1.5*iqr\n",
        "    new_df.loc[new_df[i] < min,i] = min\n",
        "    new_df.loc[new_df[i] > max,i] = max"
      ],
      "execution_count": 0,
      "outputs": []
    },
    {
      "cell_type": "code",
      "metadata": {
        "id": "pykR1G8b-FNb",
        "colab_type": "code",
        "outputId": "233ffd53-9a59-42cc-c0db-c8b72c16539f",
        "colab": {
          "base_uri": "https://localhost:8080/",
          "height": 281
        }
      },
      "source": [
        "\n",
        "plt.title(\"Bangalore Home prices\")\n",
        "plt.ylabel(\"prices\")\n",
        "plt.boxplot(new_df[\"price\"])\n",
        "plt.show()"
      ],
      "execution_count": 0,
      "outputs": [
        {
          "output_type": "display_data",
          "data": {
            "image/png": "[encoded data removed]",
            "text/plain": [
              "<Figure size 432x288 with 1 Axes>"
            ]
          },
          "metadata": {
            "tags": []
          }
        }
      ]
    },
    {
      "cell_type": "markdown",
      "metadata": {
        "id": "kZL6Ff_yKh4x",
        "colab_type": "text"
      },
      "source": [
        "Now we Can see that outlier is removed from the outlier prone variables. Now we can test our model with the algo."
      ]
    },
    {
      "cell_type": "code",
      "metadata": {
        "id": "YL5cgXRSHFMJ",
        "colab_type": "code",
        "colab": {}
      },
      "source": [
        "# Import 'make_scorer', 'DecisionTreeRegressor', and 'GridSearchCV'\n",
        "from sklearn.metrics import make_scorer\n",
        "from sklearn.metrics import r2_score\n",
        "\n",
        "def performance_metric(y_true,y_predict):\n",
        "  \"\"\"Calculates and returns the performance score between \n",
        "        true and predicted values based on the metric chosen.\"\"\"\n",
        "  score=r2_score(y_true,y_predict)\n",
        "  return score\n",
        "\n"
      ],
      "execution_count": 0,
      "outputs": []
    },
    {
      "cell_type": "code",
      "metadata": {
        "id": "SUxDe8SELDAc",
        "colab_type": "code",
        "colab": {}
      },
      "source": [
        "prices=new_df['price']\n",
        "features = new_df.drop('price',axis=1)\n",
        "##### Droping price as it is a target variable ######\n",
        "\n",
        "features = features.drop('society',axis=1)\n",
        "features = features.drop('total_sqft',axis=1)\n",
        "features\n",
        "### Dropping total_sqft because we have already made a new column called original_sqft with all the original values in float#####\n",
        "features = features[['original_sqft','bath','location','size']]\n",
        "\n",
        "\n"
      ],
      "execution_count": 0,
      "outputs": []
    },
    {
      "cell_type": "code",
      "metadata": {
        "id": "iirTIdbF2y6M",
        "colab_type": "code",
        "outputId": "8fbf0f14-61e5-43e6-8059-e5429a6e0726",
        "colab": {
          "base_uri": "https://localhost:8080/",
          "height": 72
        }
      },
      "source": [
        "from sklearn.model_selection import train_test_split\n",
        "#Shuffle and split the data into training and testing subsets\n",
        "X_train,X_test,y_train,y_test=train_test_split(features,prices,test_size=0.10,random_state=5)\n",
        "print('Training and Testing split was successful')\n",
        "print(\"Train shapes (X,y): \", X_train.shape, y_train.shape)\n",
        "print(\"Test shapes (X,y): \", X_test.shape, y_test.shape)"
      ],
      "execution_count": 0,
      "outputs": [
        {
          "output_type": "stream",
          "text": [
            "Training and Testing split was successful\n",
            "Train shapes (X,y):  (11988, 4) (11988,)\n",
            "Test shapes (X,y):  (1332, 4) (1332,)\n"
          ],
          "name": "stdout"
        }
      ]
    },
    {
      "cell_type": "code",
      "metadata": {
        "id": "gc5gti2RLdPh",
        "colab_type": "code",
        "outputId": "4f193322-d542-4116-fc36-8120957ce268",
        "colab": {
          "base_uri": "https://localhost:8080/",
          "height": 35
        }
      },
      "source": [
        "from sklearn.linear_model import LinearRegression,LogisticRegression\n",
        "reg = LinearRegression()\n",
        "reg.fit(X_train,y_train)\n"
      ],
      "execution_count": 0,
      "outputs": [
        {
          "output_type": "execute_result",
          "data": {
            "text/plain": [
              "LinearRegression(copy_X=True, fit_intercept=True, n_jobs=None, normalize=False)"
            ]
          },
          "metadata": {
            "tags": []
          },
          "execution_count": 32
        }
      ]
    },
    {
      "cell_type": "code",
      "metadata": {
        "id": "ZgBCpTvnNsn3",
        "colab_type": "code",
        "outputId": "cd397ba9-2186-4270-a31a-3fbb1af6edd1",
        "colab": {
          "base_uri": "https://localhost:8080/",
          "height": 35
        }
      },
      "source": [
        "reg.score(X_test,y_test)\n"
      ],
      "execution_count": 0,
      "outputs": [
        {
          "output_type": "execute_result",
          "data": {
            "text/plain": [
              "0.6544003791005721"
            ]
          },
          "metadata": {
            "tags": []
          },
          "execution_count": 33
        }
      ]
    },
    {
      "cell_type": "markdown",
      "metadata": {
        "id": "aNCY4T_x-UuV",
        "colab_type": "text"
      },
      "source": [
        "As Now we can see that after removal of the outlier from the price our accuracy boom from 35% to 65%. We can further improve it with the help of Gradient Boosting algo."
      ]
    },
    {
      "cell_type": "code",
      "metadata": {
        "id": "TklViCap8Iyi",
        "colab_type": "code",
        "outputId": "b1901f9b-ef8e-4a21-a5e8-4b22cac56190",
        "colab": {
          "base_uri": "https://localhost:8080/",
          "height": 181
        }
      },
      "source": [
        "from sklearn import ensemble\n",
        "clf = ensemble.GradientBoostingRegressor(n_estimators = 400, max_depth = 5, min_samples_split = 2,\n",
        "          learning_rate = 0.1, loss = 'ls')\n",
        "\n",
        "clf.fit(X_train, y_train)\n"
      ],
      "execution_count": 0,
      "outputs": [
        {
          "output_type": "execute_result",
          "data": {
            "text/plain": [
              "GradientBoostingRegressor(alpha=0.9, criterion='friedman_mse', init=None,\n",
              "                          learning_rate=0.1, loss='ls', max_depth=5,\n",
              "                          max_features=None, max_leaf_nodes=None,\n",
              "                          min_impurity_decrease=0.0, min_impurity_split=None,\n",
              "                          min_samples_leaf=1, min_samples_split=2,\n",
              "                          min_weight_fraction_leaf=0.0, n_estimators=400,\n",
              "                          n_iter_no_change=None, presort='auto',\n",
              "                          random_state=None, subsample=1.0, tol=0.0001,\n",
              "                          validation_fraction=0.1, verbose=0, warm_start=False)"
            ]
          },
          "metadata": {
            "tags": []
          },
          "execution_count": 34
        }
      ]
    },
    {
      "cell_type": "code",
      "metadata": {
        "id": "RTtwOptyCYFH",
        "colab_type": "code",
        "outputId": "adaacfe3-d85a-4b4c-8b8e-357baa78d7af",
        "colab": {
          "base_uri": "https://localhost:8080/",
          "height": 35
        }
      },
      "source": [
        "clf.score(X_test,y_test)\n"
      ],
      "execution_count": 0,
      "outputs": [
        {
          "output_type": "execute_result",
          "data": {
            "text/plain": [
              "0.7902553080300938"
            ]
          },
          "metadata": {
            "tags": []
          },
          "execution_count": 35
        }
      ]
    },
    {
      "cell_type": "markdown",
      "metadata": {
        "id": "9ef2U2FMCsNE",
        "colab_type": "text"
      },
      "source": [
        "As We can see that with the help of GradientBoostingRegressor we get a good accuray of almost 80% which is really cool. We can further improve it when we will make the dataset and can take more dependent variables to predict the target variables."
      ]
    },
    {
      "cell_type": "code",
      "metadata": {
        "id": "KAQKRhy-7zHo",
        "colab_type": "code",
        "colab": {}
      },
      "source": [
        "def reg_acc(y_true, y_pre):\n",
        "    from math import sqrt\n",
        "    from sklearn.metrics import mean_absolute_error\n",
        "    from sklearn.metrics import mean_squared_error\n",
        "    from sklearn.metrics import r2_score\n",
        "    print (\"MSE of data: \", mean_squared_error(y_true,y_pre))\n",
        "    print (\"RMSE of data: \", sqrt(mean_squared_error(y_true,y_pre)))\n",
        "    print ('Other Parameters:')\n",
        "    print (\"R² : \", r2_score(y_true,y_pre)) ### How close the data is fitted towards the regression line.\n",
        "    print ('MAE:',mean_absolute_error(y_true,y_pre))"
      ],
      "execution_count": 0,
      "outputs": []
    },
    {
      "cell_type": "code",
      "metadata": {
        "id": "NVEXOpNM4P-c",
        "colab_type": "code",
        "outputId": "85e7a1c3-2471-4047-b8b5-583fd9acb5d2",
        "colab": {
          "base_uri": "https://localhost:8080/",
          "height": 508
        }
      },
      "source": [
        "from sklearn import tree\n",
        "Deci_tree_pre = tree.DecisionTreeRegressor().fit(X_train,y_train).predict(X_test)\n",
        "print('Decision Tree ML #######################################################')\n",
        "reg_acc(Deci_tree_pre,y_test)\n",
        "print(\"###############################################################################################\")\n",
        "Ran_for_pre = ensemble.RandomForestRegressor(n_estimators=50).fit(X_train,y_train).predict(X_test)\n",
        "print('Random Forest ML #######################################################')\n",
        "reg_acc(Ran_for_pre,y_test)\n",
        "print(\"############################################################################################\")                                                                                                                                                                    \n",
        "linear_reg_pre = LinearRegression().fit(X_train,y_train).predict(X_test)\n",
        "print('Linear Regression ML #######################################################')\n",
        "reg_acc(linear_reg_pre,y_test)\n",
        "print(\"################################################################################################\")      \n",
        "gradient_boosting_pre = ensemble.GradientBoostingRegressor(n_estimators = 400, max_depth = 5, min_samples_split = 2,\n",
        "          learning_rate = 0.1, loss = 'ls').fit(X_train, y_train).predict(X_test)\n",
        "print('Gradient Boosting ML #######################################################')\n",
        "reg_acc(gradient_boosting_pre,y_test)\n",
        "\n"
      ],
      "execution_count": 0,
      "outputs": [
        {
          "output_type": "stream",
          "text": [
            "Decision Tree ML #######################################################\n",
            "MSE of data:  1424.104158192009\n",
            "RMSE of data:  37.73730459627461\n",
            "Other Parameters:\n",
            "R² :  0.5900242101686446\n",
            "MAE: 22.365137163449663\n",
            "###############################################################################################\n",
            "Random Forest ML #######################################################\n",
            "MSE of data:  871.8791874533847\n",
            "RMSE of data:  29.527600435074042\n",
            "Other Parameters:\n",
            "R² :  0.7060706434980583\n",
            "MAE: 18.355109743584887\n",
            "############################################################################################\n",
            "Linear Regression ML #######################################################\n",
            "MSE of data:  1222.9561918124098\n",
            "RMSE of data:  34.97079055172202\n",
            "Other Parameters:\n",
            "R² :  0.4500206109218631\n",
            "MAE: 25.583432898555106\n",
            "################################################################################################\n",
            "Gradient Boosting ML #######################################################\n",
            "MSE of data:  740.9571660252161\n",
            "RMSE of data:  27.220528393571204\n",
            "Other Parameters:\n",
            "R² :  0.7462121581163783\n",
            "MAE: 17.541012133164706\n"
          ],
          "name": "stdout"
        }
      ]
    },
    {
      "cell_type": "markdown",
      "metadata": {
        "id": "-sJYwnCd3FbP",
        "colab_type": "text"
      },
      "source": [
        "Here we can see that RMSE of Gradient boosting is low so we can use Gradient Boosting and can change the hyperparameter like the number of features and can check the with the learning rate."
      ]
    },
    {
      "cell_type": "code",
      "metadata": {
        "id": "yE5biNKWCfRL",
        "colab_type": "code",
        "colab": {}
      },
      "source": [
        ""
      ],
      "execution_count": 0,
      "outputs": []
    }
  ]
}